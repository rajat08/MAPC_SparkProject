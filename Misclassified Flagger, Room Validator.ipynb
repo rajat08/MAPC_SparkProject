{
 "cells": [
  {
   "cell_type": "markdown",
   "metadata": {},
   "source": [
    "## Import statements"
   ]
  },
  {
   "cell_type": "code",
   "execution_count": 45,
   "metadata": {},
   "outputs": [],
   "source": [
    "import numpy as np\n",
    "import pandas as pd\n",
    "import spacy\n",
    "nlp = spacy.load('en_core_web_sm')\n",
    "from spacy import displacy\n",
    "from spacy.matcher import Matcher, PhraseMatcher"
   ]
  },
  {
   "cell_type": "markdown",
   "metadata": {},
   "source": [
    "## Validating for Number of Rooms"
   ]
  },
  {
   "cell_type": "markdown",
   "metadata": {},
   "source": [
    "### Test dataframe"
   ]
  },
  {
   "cell_type": "code",
   "execution_count": 46,
   "metadata": {},
   "outputs": [],
   "source": [
    "test = pd.read_excel('FullListings_2018_Misclassifications (002).xlsx', sheet_name='Flagging_misclassifications')"
   ]
  },
  {
   "cell_type": "markdown",
   "metadata": {},
   "source": [
    "### Number of rooms validating function"
   ]
  },
  {
   "cell_type": "code",
   "execution_count": 47,
   "metadata": {},
   "outputs": [],
   "source": [
    "#three fold checker for rooms \n",
    "#check numbers, if there are multiple numbers, \n",
    "#check neighbhors if there is an 'in'\n",
    "# check single room renting \n",
    "\n",
    "number_validate_dict = {\"ONE\":1, \"TWO\":2, \"THREE\":3,  \"FOUR\":4, \"FIVE\":5,\"SIX\":6, \"SEVEN\":7, \"EIGHT\":8,\"NINE\":9, \"1BD\": 1, \"2BD\":2, \"1/BD\":1, \"2/BD\":2 }\n",
    "\n",
    "#validates number of rooms in a house\n",
    "def validate_num_rooms(dataframe):\n",
    "    \n",
    "    \"\"\"input = dataframe\n",
    "    output = indeces of validated rooms, list of validated room numbers, and their respective rooms available \n",
    "    in format 'rooms_available / total_rooms', and T/F list for the actual value in the dataframe for bedrooms\n",
    "    \"\"\"\n",
    "    \n",
    "    num_rooms_global = []\n",
    "    idx_matches = []\n",
    "    correct_rooms = []\n",
    "    \n",
    "    \n",
    "    #only checks title that has atmost 2 numbers \n",
    "    for x in dataframe.itertuples():\n",
    "        title = (x.title)\n",
    "        idx = x.Index\n",
    "        title = nlp(title)\n",
    "        total_rooms = x.numRooms\n",
    "        #only looking at rooms_avail\n",
    "        rooms_avail = x.bedrooms\n",
    "    \n",
    "        \n",
    "        dep_tagged = [(word.dep_) for word in title] \n",
    "        #count how many numbers are in the title\n",
    "        num_count = dep_tagged.count('nummod') + dep_tagged.count('nmod')\n",
    "        if num_count <= 2 and num_count > 0:\n",
    "            #if number of numbers is atmost 2 then continue\n",
    "            \n",
    "            dep_tagged = [word for word in title] \n",
    "            dep_tagged2 = [word.dep_ for word in title]\n",
    "            \n",
    "            num_rooms = []\n",
    "            for i in range(len(dep_tagged2)):\n",
    "                #search through title for nummods tag\n",
    "                word = str(dep_tagged2[i]).lower()\n",
    "                if word == 'nummod':\n",
    "                    try:\n",
    "                        #add number to list of num_rooms\n",
    "                        num_rooms.append(number_validate_dict[str(dep_tagged[i])])\n",
    "                    except KeyError:\n",
    "                        pass\n",
    "                else: \n",
    "                    pass\n",
    "                \n",
    "            if len(num_rooms) == 1:\n",
    "                #need to check both cases, add index, and T/F, and rooms\n",
    "                idx_matches.append(idx)\n",
    "                if int(rooms_avail) == int(num_rooms[0]):\n",
    "                    correct_rooms.append(\"T\")\n",
    "                else:\n",
    "                    correct_rooms.append(\"F\")\n",
    "                num_rooms_global.append(str(num_rooms[0]) + \"/\" + str(num_rooms[0]))\n",
    "                \n",
    "            elif len(num_rooms) > 1:\n",
    "                idx_matches.append(idx)\n",
    "                num_rooms = sorted(num_rooms)\n",
    "                num_rooms_global.append(str(num_rooms[0]) + \"/\" + str(num_rooms[1]))\n",
    "                if int(rooms_avail) == int(num_rooms[0]):\n",
    "                    correct_rooms.append(\"T\")\n",
    "                else:\n",
    "                    correct_rooms.append(\"F\")\n",
    "            \n",
    "        else:\n",
    "            pass\n",
    "    return idx_matches, num_rooms_global, correct_rooms"
   ]
  },
  {
   "cell_type": "markdown",
   "metadata": {},
   "source": [
    "### Results for validator:"
   ]
  },
  {
   "cell_type": "code",
   "execution_count": 48,
   "metadata": {},
   "outputs": [],
   "source": [
    "indeces, rooms, bool_list = validate_num_rooms(test)"
   ]
  },
  {
   "cell_type": "code",
   "execution_count": 49,
   "metadata": {},
   "outputs": [
    {
     "name": "stdout",
     "output_type": "stream",
     "text": [
      "Total number of titles:  317\n",
      "Total number of titles checked by function:  154\n",
      "Total number of titles considered true by function in dataframe:  67\n",
      "Total number of titles considered false by function in dataframe:  87\n"
     ]
    }
   ],
   "source": [
    "print(\"Total number of titles: \", test.shape[0])\n",
    "print(\"Total number of titles checked by function: \", len(indeces))\n",
    "print(\"Total number of titles considered true by function in dataframe: \", bool_list.count(\"T\"))\n",
    "print(\"Total number of titles considered false by function in dataframe: \", bool_list.count(\"F\"))"
   ]
  },
  {
   "cell_type": "markdown",
   "metadata": {},
   "source": [
    "## Flagger for Misclassifications"
   ]
  },
  {
   "cell_type": "markdown",
   "metadata": {},
   "source": [
    "### Compiling keywords from multiple sources"
   ]
  },
  {
   "cell_type": "code",
   "execution_count": 50,
   "metadata": {},
   "outputs": [],
   "source": [
    "words = pd.read_excel('Cambridge_listings_2018_flagged.xlsx', sheet_name='Auto-Skip Phrases')\n",
    "words = words['ROOM AVAILABLE IN'].tolist()\n",
    "words_2 = pd.read_excel('FullListings_2018_Misclassifications (002).xlsx', sheet_name='keywords')"
   ]
  },
  {
   "cell_type": "code",
   "execution_count": 51,
   "metadata": {},
   "outputs": [],
   "source": [
    "#Extarct keywords from the ones previously used\n",
    "\n",
    "words_mis_camb = []\n",
    "\n",
    "words_c1 = words_2['roomrent'].tolist()\n",
    "words_c2 = words_2['sublet'][:3].tolist()\n",
    "words_c3 = words_2['shortterm'][:1].tolist()\n",
    "words_c4 = words_2['shared'][:3].tolist()\n",
    "\n",
    "all_words = [words_c1,words_c2,words_c3,words_c4]\n",
    "\n",
    "for w in all_words:\n",
    "    words_mis_camb = words_mis_camb+w"
   ]
  },
  {
   "cell_type": "code",
   "execution_count": 52,
   "metadata": {},
   "outputs": [],
   "source": [
    "#Cleaning keywords\n",
    "words_mis_camb[3] = 'ONE ROOM IN'\n",
    "words_mis_camb[4] = 'ONE BEDROOM IN'\n",
    "words_mis_camb[5] = 'ONE BEDROOM AVAILABLE IN'\n",
    "words_mis_camb[12] = 'ROOMS AVAILABLE IN'\n",
    "words_mis_camb[15] = 'ROOM IN'\n",
    "words_mis_camb[21] = 'BEDROOMS AVAILABLE IN'\n",
    "words_mis_camb[23] = 'BEDROOMS OPEN IN'"
   ]
  },
  {
   "cell_type": "code",
   "execution_count": 53,
   "metadata": {},
   "outputs": [],
   "source": [
    "words2 = pd.DataFrame(words_mis_camb, columns=['words'])\n",
    "# creating a bool series from isin() \n",
    "isnotindf = words2[~words2[\"words\"].isin(words)]\n",
    "isnotindf = isnotindf['words'].tolist()\n",
    "phrase_list = isnotindf + words"
   ]
  },
  {
   "cell_type": "markdown",
   "metadata": {},
   "source": [
    "#### Complete compiling list of words"
   ]
  },
  {
   "cell_type": "code",
   "execution_count": 54,
   "metadata": {},
   "outputs": [
    {
     "data": {
      "text/plain": [
       "['ROOM RENT',\n",
       " 'ROOMMATE',\n",
       " 'ROOMIE',\n",
       " 'ONE ROOM IN',\n",
       " 'ONE BEDROOM IN',\n",
       " 'ROOM AVAILABLE IN',\n",
       " 'ONE BEDROOM IN',\n",
       " 'ONE ROOM IN',\n",
       " 'ROOMMATES NEEDED',\n",
       " 'ROOM IN',\n",
       " 'ROOM IN',\n",
       " 'SUBLET',\n",
       " 'SHORT TERM',\n",
       " 'SHARED',\n",
       " 'SHARE',\n",
       " 'ONE BEDROOM AVAILABLE IN',\n",
       " 'PRIVATE ROOM',\n",
       " 'ONE ROOM AVAILABLE',\n",
       " 'FURNISHED BEDROOM',\n",
       " 'APARTMENT SHARING',\n",
       " 'ROOMS AVAILABLE IN',\n",
       " 'ROOMMATES',\n",
       " 'PRIVATE BEDROOM',\n",
       " 'RENTING ROOM',\n",
       " 'MASTER BEDROOM IN',\n",
       " 'BEDROOMS AVAILABLE IN',\n",
       " 'ONE BEDROOM OPEN IN',\n",
       " 'BEDROOMS OPEN IN',\n",
       " 'SUBLEASING',\n",
       " 'SUBLEASE']"
      ]
     },
     "execution_count": 54,
     "metadata": {},
     "output_type": "execute_result"
    }
   ],
   "source": [
    "# Current list of keywords\n",
    "# We can add to this list\n",
    "phrase_list "
   ]
  },
  {
   "cell_type": "markdown",
   "metadata": {},
   "source": [
    "### Function to flag partial units"
   ]
  },
  {
   "cell_type": "code",
   "execution_count": 55,
   "metadata": {},
   "outputs": [],
   "source": [
    "def filter_listing(dataframe):\n",
    "    \n",
    "    '''\n",
    "    Input Parameters: 1) pandas dataframe from which the index \n",
    "                         and title will be extracted \n",
    "                      2) keywords as a list - already compiled a list for reference\n",
    "                      \n",
    "    Output: Returns 1) index of flaggled listing\n",
    "                    2) Keyword found in listing\n",
    "    '''\n",
    "    #Spacy Phraser Object\n",
    "    matcher = PhraseMatcher(nlp.vocab)\n",
    "    \n",
    "    #convert each phrase to a Doc object:\n",
    "    phrase_patterns = [nlp(text) for text in phrase_list]\n",
    "\n",
    "    # Pass each Doc object into matcher (note the use of the asterisk!):\n",
    "    matcher.add('Cambridge_keywords', None, *phrase_patterns)\n",
    "    \n",
    "    all_matches = []\n",
    "    idx_matches = []\n",
    "\n",
    "    # Looping through dataset and instantiating Spacy docuemnt\n",
    "    for x in dataframe.itertuples():\n",
    "        title = (x.title)\n",
    "        idx = x.Index\n",
    "        title = nlp(title)\n",
    "        matches = matcher(title)\n",
    "\n",
    "        #For title object, finding the keywords\n",
    "        for match_id, start, end in matches:\n",
    "            string_id = nlp.vocab.strings[match_id]  \n",
    "            #span = keyword that was matched on\n",
    "            span = title[start:end]  \n",
    "\n",
    "            #Index that should be dropped - flagged\n",
    "            idx_matches.append(idx)\n",
    "            #Keyword that was flagged for that listing\n",
    "            all_matches.append(span.text)\n",
    "            \n",
    "    return idx_matches, all_matches  "
   ]
  },
  {
   "cell_type": "markdown",
   "metadata": {},
   "source": [
    "### Testing Flagger function"
   ]
  },
  {
   "cell_type": "code",
   "execution_count": 56,
   "metadata": {},
   "outputs": [],
   "source": [
    "test2 = test.head(25)\n",
    "test2 = test2.sample(frac= 1)"
   ]
  },
  {
   "cell_type": "code",
   "execution_count": 57,
   "metadata": {},
   "outputs": [],
   "source": [
    "indeces, matches = filter_listing(test)"
   ]
  },
  {
   "cell_type": "code",
   "execution_count": 59,
   "metadata": {},
   "outputs": [
    {
     "name": "stdout",
     "output_type": "stream",
     "text": [
      "Total lines in dataframe:  317\n",
      "Total number of flagged entries by function:  131\n"
     ]
    }
   ],
   "source": [
    "print(\"Total lines in dataframe: \", test.shape[0])\n",
    "print(\"Total number of flagged entries by function: \", len(indeces))"
   ]
  },
  {
   "cell_type": "code",
   "execution_count": null,
   "metadata": {},
   "outputs": [],
   "source": []
  }
 ],
 "metadata": {
  "kernelspec": {
   "display_name": "Python 3",
   "language": "python",
   "name": "python3"
  },
  "language_info": {
   "codemirror_mode": {
    "name": "ipython",
    "version": 3
   },
   "file_extension": ".py",
   "mimetype": "text/x-python",
   "name": "python",
   "nbconvert_exporter": "python",
   "pygments_lexer": "ipython3",
   "version": "3.7.5"
  }
 },
 "nbformat": 4,
 "nbformat_minor": 2
}
