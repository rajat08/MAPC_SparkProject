{
 "cells": [
  {
   "cell_type": "markdown",
   "metadata": {},
   "source": [
    "## Classification, Naive Bayes Classifier\n",
    "\n",
    "### Features: title"
   ]
  },
  {
   "cell_type": "code",
   "execution_count": 1,
   "metadata": {},
   "outputs": [],
   "source": [
    "import numpy as np\n",
    "import pandas as pd\n",
    "import pickle\n",
    "from sklearn import metrics\n",
    "import spacy\n",
    "from sklearn.pipeline import Pipeline\n",
    "from sklearn.feature_extraction.text import TfidfVectorizer\n",
    "from sklearn.naive_bayes import MultinomialNB\n",
    "from sklearn.svm import LinearSVC\n",
    "from sklearn.model_selection import GridSearchCV\n",
    "from sklearn import svm\n",
    "from sklearn.model_selection import train_test_split"
   ]
  },
  {
   "cell_type": "code",
   "execution_count": 2,
   "metadata": {},
   "outputs": [],
   "source": [
    "# Dataset with sorted by flagged (0-171)\n",
    "df2 = pd.read_excel('FullListings_2018_Misclassifications2.xlsx')"
   ]
  },
  {
   "cell_type": "code",
   "execution_count": 3,
   "metadata": {},
   "outputs": [],
   "source": [
    "#df = pd.read_excel('FullListings_2018_Misclassifications.xlsx')"
   ]
  },
  {
   "cell_type": "code",
   "execution_count": 4,
   "metadata": {},
   "outputs": [
    {
     "data": {
      "text/html": [
       "<div>\n",
       "<style scoped>\n",
       "    .dataframe tbody tr th:only-of-type {\n",
       "        vertical-align: middle;\n",
       "    }\n",
       "\n",
       "    .dataframe tbody tr th {\n",
       "        vertical-align: top;\n",
       "    }\n",
       "\n",
       "    .dataframe thead th {\n",
       "        text-align: right;\n",
       "    }\n",
       "</style>\n",
       "<table border=\"1\" class=\"dataframe\">\n",
       "  <thead>\n",
       "    <tr style=\"text-align: right;\">\n",
       "      <th></th>\n",
       "      <th>ask</th>\n",
       "      <th>bedrooms</th>\n",
       "      <th>numRooms</th>\n",
       "      <th>title</th>\n",
       "      <th>created_date</th>\n",
       "      <th>updated_date</th>\n",
       "      <th>latitude</th>\n",
       "      <th>longitude</th>\n",
       "      <th>zip_code</th>\n",
       "      <th>zip_muni</th>\n",
       "      <th>neighborhood_01</th>\n",
       "    </tr>\n",
       "  </thead>\n",
       "  <tbody>\n",
       "    <tr>\n",
       "      <th>0</th>\n",
       "      <td>1475</td>\n",
       "      <td>0</td>\n",
       "      <td>2</td>\n",
       "      <td>ONE LARGE ROOM AVAILABLE TWO BEDROOM APARTMEN...</td>\n",
       "      <td>2018-02-14</td>\n",
       "      <td>2018-02-14</td>\n",
       "      <td>-71.100941</td>\n",
       "      <td>42.369132</td>\n",
       "      <td>2139</td>\n",
       "      <td>CAMBRIDGE</td>\n",
       "      <td>Area IV</td>\n",
       "    </tr>\n",
       "    <tr>\n",
       "      <th>1</th>\n",
       "      <td>1600</td>\n",
       "      <td>1</td>\n",
       "      <td>2</td>\n",
       "      <td>CAMBRIDGE LARGE ONE BEDROOM ONE BATHROOM IN T...</td>\n",
       "      <td>2018-01-03</td>\n",
       "      <td>2018-01-03</td>\n",
       "      <td>-71.113912</td>\n",
       "      <td>42.359812</td>\n",
       "      <td>2139</td>\n",
       "      <td>CAMBRIDGE</td>\n",
       "      <td>Cambridgeport</td>\n",
       "    </tr>\n",
       "    <tr>\n",
       "      <th>2</th>\n",
       "      <td>1600</td>\n",
       "      <td>1</td>\n",
       "      <td>2</td>\n",
       "      <td>CAMBRIDGE LARGE ONE BEDROOM ONE BATHROOM IN T...</td>\n",
       "      <td>2018-01-03</td>\n",
       "      <td>2018-01-03</td>\n",
       "      <td>-71.113912</td>\n",
       "      <td>42.359812</td>\n",
       "      <td>2139</td>\n",
       "      <td>CAMBRIDGE</td>\n",
       "      <td>Cambridgeport</td>\n",
       "    </tr>\n",
       "    <tr>\n",
       "      <th>3</th>\n",
       "      <td>1600</td>\n",
       "      <td>1</td>\n",
       "      <td>2</td>\n",
       "      <td>CAMBRIDGE LARGE ONE BEDROOM ONE BATHROOM IN T...</td>\n",
       "      <td>2018-01-03</td>\n",
       "      <td>2018-01-03</td>\n",
       "      <td>-71.113912</td>\n",
       "      <td>42.359812</td>\n",
       "      <td>2139</td>\n",
       "      <td>CAMBRIDGE</td>\n",
       "      <td>Cambridgeport</td>\n",
       "    </tr>\n",
       "    <tr>\n",
       "      <th>4</th>\n",
       "      <td>950</td>\n",
       "      <td>2</td>\n",
       "      <td>2</td>\n",
       "      <td>LARGE CONVENIENT TWO BEDROOM APARTMENT</td>\n",
       "      <td>2018-01-31</td>\n",
       "      <td>2018-01-31</td>\n",
       "      <td>-71.109971</td>\n",
       "      <td>42.358640</td>\n",
       "      <td>2139</td>\n",
       "      <td>CAMBRIDGE</td>\n",
       "      <td>Cambridgeport</td>\n",
       "    </tr>\n",
       "  </tbody>\n",
       "</table>\n",
       "</div>"
      ],
      "text/plain": [
       "    ask  bedrooms  numRooms  \\\n",
       "0  1475         0         2   \n",
       "1  1600         1         2   \n",
       "2  1600         1         2   \n",
       "3  1600         1         2   \n",
       "4   950         2         2   \n",
       "\n",
       "                                               title created_date  \\\n",
       "0   ONE LARGE ROOM AVAILABLE TWO BEDROOM APARTMEN...   2018-02-14   \n",
       "1   CAMBRIDGE LARGE ONE BEDROOM ONE BATHROOM IN T...   2018-01-03   \n",
       "2   CAMBRIDGE LARGE ONE BEDROOM ONE BATHROOM IN T...   2018-01-03   \n",
       "3   CAMBRIDGE LARGE ONE BEDROOM ONE BATHROOM IN T...   2018-01-03   \n",
       "4            LARGE CONVENIENT TWO BEDROOM APARTMENT    2018-01-31   \n",
       "\n",
       "  updated_date   latitude  longitude  zip_code   zip_muni neighborhood_01  \n",
       "0   2018-02-14 -71.100941  42.369132      2139  CAMBRIDGE         Area IV  \n",
       "1   2018-01-03 -71.113912  42.359812      2139  CAMBRIDGE   Cambridgeport  \n",
       "2   2018-01-03 -71.113912  42.359812      2139  CAMBRIDGE   Cambridgeport  \n",
       "3   2018-01-03 -71.113912  42.359812      2139  CAMBRIDGE   Cambridgeport  \n",
       "4   2018-01-31 -71.109971  42.358640      2139  CAMBRIDGE   Cambridgeport  "
      ]
     },
     "execution_count": 4,
     "metadata": {},
     "output_type": "execute_result"
    }
   ],
   "source": [
    "features = [ 'ask', 'bedrooms', 'numRooms', 'title','created_date',\n",
    "       'updated_date','latitude','longitude', 'zip_code', 'zip_muni', \n",
    "            'neighborhood_01']\n",
    "\n",
    "df2 =df2[features]\n",
    "df2.head()"
   ]
  },
  {
   "cell_type": "markdown",
   "metadata": {},
   "source": []
  },
  {
   "cell_type": "code",
   "execution_count": 5,
   "metadata": {},
   "outputs": [
    {
     "name": "stderr",
     "output_type": "stream",
     "text": [
      "/Users/kabiroberoi/anaconda3/lib/python3.7/site-packages/pandas/core/indexing.py:190: SettingWithCopyWarning: \n",
      "A value is trying to be set on a copy of a slice from a DataFrame\n",
      "\n",
      "See the caveats in the documentation: http://pandas.pydata.org/pandas-docs/stable/indexing.html#indexing-view-versus-copy\n",
      "  self._setitem_with_indexer(indexer, value)\n"
     ]
    }
   ],
   "source": [
    "# Adding labels to data from excel file\n",
    "# 0 - 171 spam\n",
    "\n",
    "df2['flag'] = np.nan\n",
    "df2['flag'].iloc[:172] = 1\n",
    "df2['flag'].iloc[172:] = 0"
   ]
  },
  {
   "cell_type": "code",
   "execution_count": 6,
   "metadata": {},
   "outputs": [
    {
     "data": {
      "text/plain": [
       "1.0    172\n",
       "0.0    145\n",
       "Name: flag, dtype: int64"
      ]
     },
     "execution_count": 6,
     "metadata": {},
     "output_type": "execute_result"
    }
   ],
   "source": [
    "df2['flag'].value_counts()"
   ]
  },
  {
   "cell_type": "code",
   "execution_count": 7,
   "metadata": {},
   "outputs": [],
   "source": [
    "X = df2['title']\n",
    "y = df2['flag']\n",
    "\n",
    "X_train, X_test, y_train, y_test = train_test_split(X, y, test_size=0.33, random_state=42)"
   ]
  },
  {
   "cell_type": "code",
   "execution_count": 8,
   "metadata": {},
   "outputs": [],
   "source": [
    "# filename = 'naive_model.pkl'\n",
    "\n",
    "# with open(filename, 'wb') as f:\n",
    "#     pickle.dump(text_clf_nb,f)"
   ]
  },
  {
   "cell_type": "code",
   "execution_count": 9,
   "metadata": {},
   "outputs": [],
   "source": [
    "nlp = spacy.load('en_core_web_sm')\n",
    "sw = nlp.Defaults.stop_words"
   ]
  },
  {
   "cell_type": "code",
   "execution_count": 10,
   "metadata": {},
   "outputs": [],
   "source": [
    "text_clf_nb2 = Pipeline([('tfidf', TfidfVectorizer(stop_words = sw)),\n",
    "                     ('clf', MultinomialNB()),\n",
    "])"
   ]
  },
  {
   "cell_type": "code",
   "execution_count": 11,
   "metadata": {},
   "outputs": [
    {
     "name": "stderr",
     "output_type": "stream",
     "text": [
      "/Users/kabiroberoi/anaconda3/lib/python3.7/site-packages/sklearn/feature_extraction/text.py:300: UserWarning: Your stop_words may be inconsistent with your preprocessing. Tokenizing the stop words generated tokens ['ll', 've'] not in stop_words.\n",
      "  'stop_words.' % sorted(inconsistent))\n"
     ]
    },
    {
     "data": {
      "text/plain": [
       "Pipeline(memory=None,\n",
       "         steps=[('tfidf',\n",
       "                 TfidfVectorizer(analyzer='word', binary=False,\n",
       "                                 decode_error='strict',\n",
       "                                 dtype=<class 'numpy.float64'>,\n",
       "                                 encoding='utf-8', input='content',\n",
       "                                 lowercase=True, max_df=1.0, max_features=None,\n",
       "                                 min_df=1, ngram_range=(1, 1), norm='l2',\n",
       "                                 preprocessor=None, smooth_idf=True,\n",
       "                                 stop_words={\"'d\", \"'ll\", \"'m\", \"'re\", \"'s\",\n",
       "                                             \"'ve\", 'a', 'about', 'above',\n",
       "                                             'acr...',\n",
       "                                             'again', 'against', 'all',\n",
       "                                             'almost', 'alone', 'along',\n",
       "                                             'already', 'also', 'although',\n",
       "                                             'always', 'am', 'among', 'amongst',\n",
       "                                             'amount', 'an', 'and', 'another',\n",
       "                                             'any', ...},\n",
       "                                 strip_accents=None, sublinear_tf=False,\n",
       "                                 token_pattern='(?u)\\\\b\\\\w\\\\w+\\\\b',\n",
       "                                 tokenizer=None, use_idf=True,\n",
       "                                 vocabulary=None)),\n",
       "                ('clf',\n",
       "                 MultinomialNB(alpha=1.0, class_prior=None, fit_prior=True))],\n",
       "         verbose=False)"
      ]
     },
     "execution_count": 11,
     "metadata": {},
     "output_type": "execute_result"
    }
   ],
   "source": [
    "#Naive Bayes Model\n",
    "text_clf_nb2.fit(X_train, y_train)"
   ]
  },
  {
   "cell_type": "code",
   "execution_count": 12,
   "metadata": {},
   "outputs": [],
   "source": [
    "# Form a prediction set\n",
    "predictions2 = text_clf_nb2.predict(X_test)"
   ]
  },
  {
   "cell_type": "code",
   "execution_count": 13,
   "metadata": {},
   "outputs": [
    {
     "name": "stdout",
     "output_type": "stream",
     "text": [
      "              precision    recall  f1-score   support\n",
      "\n",
      "         0.0       0.94      0.60      0.73        48\n",
      "         1.0       0.74      0.96      0.84        57\n",
      "\n",
      "    accuracy                           0.80       105\n",
      "   macro avg       0.84      0.78      0.79       105\n",
      "weighted avg       0.83      0.80      0.79       105\n",
      "\n"
     ]
    }
   ],
   "source": [
    "print(metrics.classification_report(y_test,predictions2))"
   ]
  },
  {
   "cell_type": "code",
   "execution_count": 14,
   "metadata": {},
   "outputs": [
    {
     "name": "stdout",
     "output_type": "stream",
     "text": [
      "0.8\n"
     ]
    }
   ],
   "source": [
    "# Print the overall accuracy\n",
    "print(metrics.accuracy_score(y_test,predictions2))"
   ]
  },
  {
   "cell_type": "code",
   "execution_count": null,
   "metadata": {},
   "outputs": [],
   "source": []
  }
 ],
 "metadata": {
  "kernelspec": {
   "display_name": "Python 3",
   "language": "python",
   "name": "python3"
  },
  "language_info": {
   "codemirror_mode": {
    "name": "ipython",
    "version": 3
   },
   "file_extension": ".py",
   "mimetype": "text/x-python",
   "name": "python",
   "nbconvert_exporter": "python",
   "pygments_lexer": "ipython3",
   "version": "3.7.3"
  }
 },
 "nbformat": 4,
 "nbformat_minor": 2
}
