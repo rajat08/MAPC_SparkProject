{
 "cells": [
  {
   "cell_type": "code",
   "execution_count": 9,
   "metadata": {},
   "outputs": [],
   "source": [
    "import en_core_web_sm\n",
    "import pandas as pd\n",
    "\n",
    "import string\n",
    "from spacy.lang.en.stop_words import STOP_WORDS\n",
    "from spacy.lang.en import English\n",
    "\n",
    "\n"
   ]
  },
  {
   "cell_type": "code",
   "execution_count": 10,
   "metadata": {},
   "outputs": [],
   "source": [
    "types = {'id':'str', 'ask':'str', 'bedrooms':'int', 'numRooms':'int', 'title':'str', 'original_title':'str',\n",
    "      'muni_ID':'str', 'muni':'str',\n",
    "       'zip_muni':'str', 'uniqueid':'str', \n",
    "       'bos_yr_built':'str', 'flagged': 'int'}\n",
    "\n",
    "listings = pd.read_csv(\"FullListings_2018_Misclassifications_flagged.csv\", delimiter= \",\", dtype = types)\n",
    "\n",
    "\n",
    "list_reduced = listings[['id', 'ask', 'bedrooms', 'numRooms', 'title', 'original_title', 'muni',\n",
    "       'zip_muni', 'uniqueid', 'flagged']]"
   ]
  },
  {
   "cell_type": "code",
   "execution_count": 45,
   "metadata": {},
   "outputs": [
    {
     "data": {
      "text/plain": [
       "['Cambridge PROPN',\n",
       " 'spacious ADJ',\n",
       " '1br/1ba NUM',\n",
       " 'in ADP',\n",
       " '2br/2ba NUM',\n",
       " 'apt ADJ',\n",
       " ', PUNCT',\n",
       " 'no DET',\n",
       " 'fee NOUN',\n",
       " ', PUNCT',\n",
       " 'available ADJ',\n",
       " 'now ADV',\n",
       " '! PUNCT']"
      ]
     },
     "execution_count": 45,
     "metadata": {},
     "output_type": "execute_result"
    }
   ],
   "source": [
    "# Create our list of punctuation marks\n",
    "punctuations = string.punctuation\n",
    "\n",
    "# Create our list of stopwords\n",
    "\n",
    "# Load English tokenizer, with stopwords\n",
    "parser = English()\n",
    "stop_words = spacy.lang.en.stop_words.STOP_WORDS\n",
    "\n",
    "#FOR POS TAGGING\n",
    "nlp = en_core_web_sm.load()\n",
    "\n",
    "#TESTING POS TAGGING\n",
    "\n",
    "# docs = nlp(str(list_reduced.original_title[1]))\n",
    "\n",
    "# for word in docs:\n",
    "#     print(word.text,word.pos_)\n",
    "\n",
    "def spacy_tagger(sentence):\n",
    "    #removing stop words\n",
    "#     mytokens = parser(sentence)\n",
    "#     print(mytokens)\n",
    "#     mytokens = [word for word in sentence if word not in stop_words and word not in punctuations ]\n",
    "    #creating a pos tagger for the titles, \n",
    "    mytokens = nlp(str(sentence))\n",
    "    \n",
    "    # return preprocessed list of tokens, and the pos tag for the tokens\n",
    "    list1 = []\n",
    "    for word in mytokens:\n",
    "        list1.append(word.text +\" \" + word.pos_)\n",
    "    \n",
    "        \n",
    "    return list1\n",
    "\n"
   ]
  },
  {
   "cell_type": "code",
   "execution_count": 46,
   "metadata": {},
   "outputs": [
    {
     "name": "stderr",
     "output_type": "stream",
     "text": [
      "/Users/rahulramesh/anaconda3/envs/MAPC/lib/python3.7/site-packages/ipykernel_launcher.py:1: SettingWithCopyWarning: \n",
      "A value is trying to be set on a copy of a slice from a DataFrame.\n",
      "Try using .loc[row_indexer,col_indexer] = value instead\n",
      "\n",
      "See the caveats in the documentation: http://pandas.pydata.org/pandas-docs/stable/user_guide/indexing.html#returning-a-view-versus-a-copy\n",
      "  \"\"\"Entry point for launching an IPython kernel.\n"
     ]
    }
   ],
   "source": [
    "list_reduced['pos_tagged'] = list_reduced['original_title'].apply(spacy_tagger)"
   ]
  },
  {
   "cell_type": "code",
   "execution_count": 57,
   "metadata": {},
   "outputs": [
    {
     "data": {
      "text/plain": [
       "['Cambridge PROPN',\n",
       " 'spacious ADJ',\n",
       " '1br/1ba NUM',\n",
       " 'in ADP',\n",
       " '2br/2ba NUM',\n",
       " 'apt ADJ',\n",
       " ', PUNCT',\n",
       " 'no DET',\n",
       " 'fee NOUN',\n",
       " ', PUNCT',\n",
       " 'available ADJ',\n",
       " 'now ADV',\n",
       " '! PUNCT']"
      ]
     },
     "execution_count": 57,
     "metadata": {},
     "output_type": "execute_result"
    }
   ],
   "source": [
    "#doesn't do well example\n",
    "list_reduced.iloc[231]['pos_tagged']\n",
    "\n",
    "#does well on\n",
    "list_reduced.iloc[1]['pos_tagged']"
   ]
  },
  {
   "cell_type": "code",
   "execution_count": null,
   "metadata": {},
   "outputs": [],
   "source": []
  }
 ],
 "metadata": {
  "kernelspec": {
   "display_name": "Python 3",
   "language": "python",
   "name": "python3"
  },
  "language_info": {
   "codemirror_mode": {
    "name": "ipython",
    "version": 3
   },
   "file_extension": ".py",
   "mimetype": "text/x-python",
   "name": "python",
   "nbconvert_exporter": "python",
   "pygments_lexer": "ipython3",
   "version": "3.7.5"
  }
 },
 "nbformat": 4,
 "nbformat_minor": 2
}
