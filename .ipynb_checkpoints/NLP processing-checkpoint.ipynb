{
 "cells": [
  {
   "cell_type": "code",
   "execution_count": 1,
   "metadata": {},
   "outputs": [],
   "source": [
    "import en_core_web_sm\n",
    "import pandas as pd\n",
    "import numpy as np\n",
    "import string\n",
    "import spacy\n",
    "from spacy.lang.en.stop_words import STOP_WORDS\n",
    "from spacy.lang.en import English\n",
    "from spacy.matcher import Matcher, PhraseMatcher"
   ]
  },
  {
   "cell_type": "code",
   "execution_count": 2,
   "metadata": {},
   "outputs": [],
   "source": [
    "types = {'id':'str', 'ask':'str', 'bedrooms':'int', 'numRooms':'int', 'title':'str', 'original_title':'str',\n",
    "      'muni_ID':'str', 'muni':'str',\n",
    "       'zip_muni':'str', 'uniqueid':'str', \n",
    "       'bos_yr_built':'str', 'flagged': 'int'}\n",
    "\n",
    "listings = pd.read_csv(\"FullListings_2018_Misclassifications_flagged.csv\", delimiter= \",\", dtype = types)\n",
    "\n",
    "\n",
    "list_reduced = listings[['id', 'ask', 'bedrooms', 'numRooms', 'title', 'original_title', 'muni',\n",
    "       'zip_muni', 'uniqueid', 'flagged']]"
   ]
  },
  {
   "cell_type": "code",
   "execution_count": 3,
   "metadata": {},
   "outputs": [],
   "source": [
    "# Create our list of punctuation marks\n",
    "punctuations = string.punctuation\n",
    "\n",
    "# Create our list of stopwords\n",
    "\n",
    "# Load English tokenizer, with stopwords\n",
    "parser = English()\n",
    "stop_words = spacy.lang.en.stop_words.STOP_WORDS\n",
    "\n",
    "#FOR POS TAGGING\n",
    "nlp = spacy.load('en')\n"
   ]
  },
  {
   "cell_type": "code",
   "execution_count": 24,
   "metadata": {},
   "outputs": [],
   "source": [
    "#three fold checker for rooms \n",
    "#check numbers, if there are multiple numbers, \n",
    "#check neighbhors if there is an 'in'\n",
    "# check single room renting \n",
    "\n",
    "number_validate_dict = {\"ONE\":1, \"TWO\":2, \"THREE\":3,  \"FOUR\":4, \"FIVE\":5,\"SIX\":6, \"SEVEN\":7, \"EIGHT\":8,\"NINE\":9, \"1BD\": 1, \"2BD\":2, \"1/BD\":1, \"2/BD\":2 }\n",
    "\n",
    "#validates number of rooms in a house\n",
    "def validate_num_rooms(dataframe):\n",
    "    \n",
    "    \"\"\"input = dataframe\n",
    "    output = list of indeces with validated room numbers, and their respective rooms available \n",
    "    in format 'rooms_available / total_rooms'\n",
    "    \"\"\"\n",
    "    num_rooms_global = []\n",
    "    idx_matches = []\n",
    "    correct_rooms = []\n",
    "    #only checks title that has atmost 2 numbers \n",
    "    for x in dataframe.itertuples():\n",
    "        title = (x.title)\n",
    "        idx = x.Index\n",
    "        title = nlp(title)\n",
    "        total_rooms = x.numRooms\n",
    "        rooms_avail = x.bedrooms\n",
    "    \n",
    "        \n",
    "        dep_tagged = [(word.dep_) for word in title] \n",
    "        num_count = dep_tagged.count('nummod') + dep_tagged.count('nmod')\n",
    "        if num_count <= 2 and num_count > 0:\n",
    "            \n",
    "            dep_tagged = [word for word in title] \n",
    "            dep_tagged2 = [word.dep_ for word in title]\n",
    "            \n",
    "            num_rooms = []\n",
    "            for i in range(len(dep_tagged2)):\n",
    "                word = str(dep_tagged2[i]).lower()\n",
    "                if word == 'nummod':\n",
    "                    try:\n",
    "                        num_rooms.append(number_validate_dict[str(dep_tagged[i])])\n",
    "                        \n",
    "                    except KeyError:\n",
    "                        pass\n",
    "                else: \n",
    "                    pass\n",
    "                \n",
    "            if len(num_rooms) == 1:\n",
    "                title_1.append(title)\n",
    "                idx_matches.append(idx)\n",
    "                if int(rooms_avail) == int(num_rooms[0]):\n",
    "                    correct_rooms.append(\"T\")\n",
    "                else:\n",
    "                    correct_rooms.append(\"F\")\n",
    "                num_rooms_global.append(str(num_rooms[0]) + \"/\" + str(num_rooms[0]))\n",
    "                \n",
    "            elif len(num_rooms) > 1:\n",
    "                title_1.append(title)\n",
    "                idx_matches.append(idx)\n",
    "                num_rooms = sorted(num_rooms)\n",
    "                num_rooms_global.append(str(num_rooms[0]) + \"/\" + str(num_rooms[1]))\n",
    "                if int(rooms_avail) == int(num_rooms[0]):\n",
    "                    correct_rooms.append(\"T\")\n",
    "                else:\n",
    "                    correct_rooms.append(\"F\")\n",
    "            \n",
    "        else:\n",
    "            pass\n",
    "    return idx_matches, num_rooms_global, correct_rooms"
   ]
  },
  {
   "cell_type": "code",
   "execution_count": 25,
   "metadata": {},
   "outputs": [],
   "source": [
    "test = pd.read_excel('FullListings_2018_Misclassifications (002).xlsx', sheet_name='Flagging_misclassifications')\n",
    "a, x,y, z = validate_num_rooms(test)"
   ]
  },
  {
   "cell_type": "code",
   "execution_count": 32,
   "metadata": {},
   "outputs": [
    {
     "data": {
      "text/plain": [
       "154"
      ]
     },
     "execution_count": 32,
     "metadata": {},
     "output_type": "execute_result"
    }
   ],
   "source": [
    "len(a)"
   ]
  },
  {
   "cell_type": "code",
   "execution_count": 7,
   "metadata": {},
   "outputs": [
    {
     "data": {
      "text/plain": [
       "['nummod',\n",
       " 'nsubj',\n",
       " 'ROOT',\n",
       " 'nummod',\n",
       " 'compound',\n",
       " 'nummod',\n",
       " 'compound',\n",
       " 'dobj',\n",
       " 'nummod',\n",
       " 'npadvmod']"
      ]
     },
     "execution_count": 7,
     "metadata": {},
     "output_type": "execute_result"
    }
   ],
   "source": [
    "sentence = 'TWO ROOMS AVAILABLE IN LARGE CENTRAL SQUARE FOUR BEDROOM APARTMENT'\n",
    "sentence4 = 'ROOM IN SUNNY THREE BEDROOM APARTMENT W CENTRAL AC WASHER/DRYER DISHWASHER SEPT ONE' \n",
    "sentence3 ='THREE ROOMS AVAILABLE IN SUNNY APARTMENT IN CENTRAL SQUARE'\n",
    "sentence5 = 'TEN THREE BEDROOM ONE ROOM AVAILABLE IN 3BEDR 2BATHR APARTMENT '\n",
    "sentence2 = 'CLEAN LARGE ROOM IN INMAN SQUARE APRIL ONE AUG 31 PARKING INCLUDED'\n",
    "sentence6 = 'ONE BEDROOM RENT ONE EIGHT 128 MAGAZINE STREET SEVEN CAMBRIDGE '\n",
    "dependency_tagged = nlp(sentence6.lower())\n",
    "\n",
    "pos_tagged = [(word.dep_) for word in dependency_tagged] \n",
    "\n",
    "pos_tagged"
   ]
  },
  {
   "cell_type": "code",
   "execution_count": null,
   "metadata": {},
   "outputs": [],
   "source": [
    "sort = [1, 4, 2]\n",
    "sort = sorted(sort)\n",
    "sort"
   ]
  },
  {
   "cell_type": "code",
   "execution_count": null,
   "metadata": {},
   "outputs": [],
   "source": [
    "if 'room' in \"the bedroom is the room\":\n",
    "    print(\"true\")"
   ]
  },
  {
   "cell_type": "code",
   "execution_count": null,
   "metadata": {},
   "outputs": [],
   "source": [
    "print(\"Works correctly: \\n\" + validate_num_rooms(list_reduced.iloc[5].title))\n",
    "print(\"Works incorrectly: \\n\" + validate_num_rooms(list_reduced.iloc[1].title))"
   ]
  },
  {
   "cell_type": "code",
   "execution_count": null,
   "metadata": {},
   "outputs": [],
   "source": [
    "#checking the dependency of rooms \n",
    "# def spacy_num(sentence):\n",
    "#     #removing stop words\n",
    "# #     mytokens = parser(sentence)\n",
    "# #     print(mytokens)\n",
    "# #     mytokens = [word for word in sentence if word not in stop_words and word not in punctuations ]\n",
    "#     #creating a pos tagger for the titles, \n",
    "#     mytokens = nlp(str(sentence))\n",
    "    \n",
    "    \n",
    "#     for x in mytokens:\n",
    "#         if x.pos_ == \"NUM\":\n",
    "#     # return preprocessed list of tokens, and the pos tag for the tokens\n",
    "#             return x.text\n",
    "\n",
    "list_reduced['num_format'] = list_reduced['title'].apply(validate_num_rooms)"
   ]
  },
  {
   "cell_type": "code",
   "execution_count": null,
   "metadata": {},
   "outputs": [],
   "source": [
    "list_reduced['num_format']"
   ]
  },
  {
   "cell_type": "code",
   "execution_count": null,
   "metadata": {},
   "outputs": [],
   "source": [
    "list_reduced.num_format.value_counts()"
   ]
  },
  {
   "cell_type": "code",
   "execution_count": null,
   "metadata": {},
   "outputs": [],
   "source": [
    "# count = 0\n",
    "# validate_dict = {\"ONE\":1, \"TWO\":2, \"THREE\":3,  \"FOUR\":4, \"FIVE\":5,\"SIX\":6, \"SEVEN\":7, \"EIGHT\":8,\"NINE\":9, \"TEN\":10}\n",
    "# def validating(mytokens2): \n",
    "#     mytokens2 = nlp(str(mytokens2))\n",
    "#     count = 0\n",
    "#     counts_of_num_text = []\n",
    "#     for t in mytokens2:\n",
    "#         if len(counts_of_num_text)> 1:\n",
    "#             if counts_of_num_text[0] <= counts_of_num_text[1]:\n",
    "#                 return(\"1\")\n",
    "#             else:\n",
    "                \n",
    "#         if t.pos_ == \"NUM\":\n",
    "#             if str(t.text) in validate_dict:\n",
    "#                 counts_of_num_text.append(validate_dict[t.text])\n",
    "#             count+=1\n",
    "\n",
    "# validating(\"ONE BEDROOM IN A THREE BEDROOM HOUSE\")  "
   ]
  },
  {
   "cell_type": "code",
   "execution_count": null,
   "metadata": {},
   "outputs": [],
   "source": [
    "myt = nlp(\"2 IN A TWO BEDROOM HOUSE\")\n",
    "list2 = []\n",
    "for x in myt:\n",
    "    print(x.pos_)\n",
    "\n",
    "\n"
   ]
  },
  {
   "cell_type": "code",
   "execution_count": null,
   "metadata": {},
   "outputs": [],
   "source": [
    "str1 = \"TWO po\"\n",
    "text = nlp(str(str1))\n",
    "for x in text:\n",
    "    print(x.text)\n"
   ]
  },
  {
   "cell_type": "code",
   "execution_count": null,
   "metadata": {},
   "outputs": [],
   "source": [
    "list_reduced['pos_tagged'] = list_reduced['original_title'].apply(spacy_tagger)"
   ]
  },
  {
   "cell_type": "code",
   "execution_count": null,
   "metadata": {},
   "outputs": [],
   "source": [
    "#doesn't do well example\n",
    "print(list_reduced.iloc[205]['pos_tagged'])\n",
    "\n",
    "#does well on\n",
    "list_reduced.iloc[1]['pos_tagged'] "
   ]
  },
  {
   "cell_type": "code",
   "execution_count": null,
   "metadata": {},
   "outputs": [],
   "source": []
  }
 ],
 "metadata": {
  "kernelspec": {
   "display_name": "Python 3",
   "language": "python",
   "name": "python3"
  },
  "language_info": {
   "codemirror_mode": {
    "name": "ipython",
    "version": 3
   },
   "file_extension": ".py",
   "mimetype": "text/x-python",
   "name": "python",
   "nbconvert_exporter": "python",
   "pygments_lexer": "ipython3",
   "version": "3.7.5"
  }
 },
 "nbformat": 4,
 "nbformat_minor": 2
}
