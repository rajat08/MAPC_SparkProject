{
 "cells": [
  {
   "cell_type": "code",
   "execution_count": 3,
   "metadata": {},
   "outputs": [],
   "source": [
    "import pandas as pd\n",
    "import numpy as np\n",
    "import math"
   ]
  },
  {
   "cell_type": "code",
   "execution_count": 4,
   "metadata": {},
   "outputs": [],
   "source": [
    "misclassifications = pd.read_csv(\"Cambridge_listings_2018_flagged_sorted.csv\", delimiter = \",\")\n",
    "listings= pd.read_csv(\"FullListings_2018_Misclassifications (002).csv\", delimiter = \",\")"
   ]
  },
  {
   "cell_type": "code",
   "execution_count": 5,
   "metadata": {},
   "outputs": [],
   "source": [
    "a_lists  = []\n",
    "for x in range(317):\n",
    "    if x > 171:\n",
    "        a_lists.append(0)\n",
    "    else:\n",
    "        a_lists.append(1)\n",
    "\n",
    "#cambirdge \n",
    "b_lists  = []\n",
    "for x in range(323):\n",
    "    if x > 19:\n",
    "        b_lists.append(0)\n",
    "    else:\n",
    "        b_lists.append(1)"
   ]
  },
  {
   "cell_type": "code",
   "execution_count": 6,
   "metadata": {},
   "outputs": [
    {
     "name": "stdout",
     "output_type": "stream",
     "text": [
      "77\n",
      "80\n"
     ]
    },
    {
     "data": {
      "text/plain": [
       "(317, 80)"
      ]
     },
     "execution_count": 6,
     "metadata": {},
     "output_type": "execute_result"
    }
   ],
   "source": [
    "print(len(misclassifications.columns.values))\n",
    "print(len(listings.columns.values))\n",
    "misclassifications.shape\n",
    "listings.shape"
   ]
  },
  {
   "cell_type": "code",
   "execution_count": 7,
   "metadata": {},
   "outputs": [],
   "source": [
    "misclassifications.insert(77,\"flagged\", b_lists)"
   ]
  },
  {
   "cell_type": "code",
   "execution_count": 8,
   "metadata": {},
   "outputs": [],
   "source": [
    "listings.insert(80, \"flagged\", a_lists)"
   ]
  },
  {
   "cell_type": "code",
   "execution_count": 9,
   "metadata": {},
   "outputs": [],
   "source": [
    "d_lists  = []\n",
    "for x in range(317):\n",
    "    d_lists.append(\"FLM\")\n",
    "\n",
    "#cambirdge \n",
    "c_lists  = []\n",
    "for x in range(323):\n",
    "    c_lists.append(\"CM\")"
   ]
  },
  {
   "cell_type": "code",
   "execution_count": 10,
   "metadata": {},
   "outputs": [],
   "source": [
    "listings.insert(81, \"data_source\", d_lists)\n",
    "misclassifications.insert(78, \"data_source\", c_lists)"
   ]
  },
  {
   "cell_type": "code",
   "execution_count": null,
   "metadata": {},
   "outputs": [],
   "source": [
    "result = listings.append(misclassifications, ignore_index=True, sort=False)"
   ]
  },
  {
   "cell_type": "code",
   "execution_count": null,
   "metadata": {},
   "outputs": [],
   "source": [
    "#result.to_csv(path_or_buf=\"cambridge_full_listings_comb.csv\", index = True)"
   ]
  },
  {
   "cell_type": "code",
   "execution_count": 11,
   "metadata": {},
   "outputs": [
    {
     "name": "stderr",
     "output_type": "stream",
     "text": [
      "/Users/rahulramesh/anaconda3/lib/python3.6/site-packages/IPython/core/interactiveshell.py:2785: DtypeWarning: Columns (0,17,25,26,50) have mixed types. Specify dtype option on import or set low_memory=False.\n",
      "  interactivity=interactivity, compiler=compiler, result=result)\n"
     ]
    }
   ],
   "source": [
    "full = pd.read_csv(\"listings_unique_NOT-FULL_2018_20191028.csv\", delimiter= \",\")"
   ]
  },
  {
   "cell_type": "code",
   "execution_count": 12,
   "metadata": {},
   "outputs": [
    {
     "name": "stderr",
     "output_type": "stream",
     "text": [
      "/Users/rahulramesh/anaconda3/lib/python3.6/site-packages/IPython/core/interactiveshell.py:2785: DtypeWarning: Columns (17,25,26,50) have mixed types. Specify dtype option on import or set low_memory=False.\n",
      "  interactivity=interactivity, compiler=compiler, result=result)\n"
     ]
    }
   ],
   "source": [
    "types = {'id':'str', 'ask':'str', 'bedrooms':'int', 'numRooms':'int', 'title':'str', 'original_title':'str',\n",
    "      'muni_ID':'str', 'muni':'str',\n",
    "       'zip_muni':'str', 'uniqueid':'str', \n",
    "       'bos_yr_built':'str'}\n",
    "\n",
    "full = pd.read_csv(\"listings_unique_NOT-FULL_2018_20191028.csv\", delimiter= \",\", dtype = types)\n"
   ]
  },
  {
   "cell_type": "code",
   "execution_count": 14,
   "metadata": {},
   "outputs": [
    {
     "name": "stdout",
     "output_type": "stream",
     "text": [
      "no matchings\n",
      "0\n"
     ]
    }
   ],
   "source": [
    "#checking if the misclassification titles are in listsing_full\n",
    "str_title = str(misclassifications['title'][1])\n",
    "\n",
    "full[full['title'].str.match(str_title)].empty\n",
    "\n",
    "count = 0\n",
    "for i, j in misclassifications.iterrows():\n",
    "    str_title = str(j['title'])\n",
    "    if full[full['title'].str.match(str_title)].empty == False:\n",
    "        str_match = str_title\n",
    "        count+= 1\n",
    "        break\n",
    "        \n",
    "    else:\n",
    "        \n",
    "        pass\n",
    "print(\"no matchings\")\n",
    "print(count)"
   ]
  },
  {
   "cell_type": "code",
   "execution_count": 19,
   "metadata": {},
   "outputs": [
    {
     "name": "stdout",
     "output_type": "stream",
     "text": [
      "no matchings\n",
      " HUGE HOUSE CLOSE DAVIS PORTER \n",
      "317\n"
     ]
    }
   ],
   "source": [
    "count = 0\n",
    "for i, j in listings.iterrows():\n",
    "    str_title = str(j['title'])\n",
    "    if full[full['title'].str.match(str_title)].empty == False:\n",
    "        str_match = str_title\n",
    "        count+=1\n",
    "    else:\n",
    "        pass\n",
    "print(\"no matchings\")\n",
    "print(str_match)\n",
    "print(count)"
   ]
  },
  {
   "cell_type": "code",
   "execution_count": 20,
   "metadata": {},
   "outputs": [
    {
     "data": {
      "text/html": [
       "<div>\n",
       "<style scoped>\n",
       "    .dataframe tbody tr th:only-of-type {\n",
       "        vertical-align: middle;\n",
       "    }\n",
       "\n",
       "    .dataframe tbody tr th {\n",
       "        vertical-align: top;\n",
       "    }\n",
       "\n",
       "    .dataframe thead th {\n",
       "        text-align: right;\n",
       "    }\n",
       "</style>\n",
       "<table border=\"1\" class=\"dataframe\">\n",
       "  <thead>\n",
       "    <tr style=\"text-align: right;\">\n",
       "      <th></th>\n",
       "      <th>id</th>\n",
       "      <th>ask</th>\n",
       "      <th>bedrooms</th>\n",
       "      <th>numRooms</th>\n",
       "      <th>title</th>\n",
       "      <th>original_title</th>\n",
       "      <th>source_id</th>\n",
       "      <th>survey_id</th>\n",
       "      <th>post_date</th>\n",
       "      <th>created_date</th>\n",
       "      <th>...</th>\n",
       "      <th>updated_at</th>\n",
       "      <th>uniqueid</th>\n",
       "      <th>parloc_id</th>\n",
       "      <th>pid_long_15</th>\n",
       "      <th>pid_long_16</th>\n",
       "      <th>luc_adj_1</th>\n",
       "      <th>luc_adj_2</th>\n",
       "      <th>yr_built</th>\n",
       "      <th>camb_yr_built</th>\n",
       "      <th>bos_yr_built</th>\n",
       "    </tr>\n",
       "  </thead>\n",
       "  <tbody>\n",
       "    <tr>\n",
       "      <th>271872</th>\n",
       "      <td>https://boston.craigslist.org/gbs/nfb/d/huge-h...</td>\n",
       "      <td>905</td>\n",
       "      <td>5</td>\n",
       "      <td>5</td>\n",
       "      <td>HUGE HOUSE CLOSE DAVIS PORTER</td>\n",
       "      <td>Huge House Close to Davis and Porter</td>\n",
       "      <td>1</td>\n",
       "      <td>151</td>\n",
       "      <td>2018-04-02</td>\n",
       "      <td>2018-04-04</td>\n",
       "      <td>...</td>\n",
       "      <td>2018-04-04 07:20:55 UTC</td>\n",
       "      <td>905 5 Huge House Close to Davis and Porter -71...</td>\n",
       "      <td>LOCmapc_152044</td>\n",
       "      <td>NaN</td>\n",
       "      <td>NaN</td>\n",
       "      <td>NaN</td>\n",
       "      <td>NaN</td>\n",
       "      <td>0</td>\n",
       "      <td>0</td>\n",
       "      <td>0</td>\n",
       "    </tr>\n",
       "    <tr>\n",
       "      <th>272071</th>\n",
       "      <td>https://boston.craigslist.org/gbs/nfb/d/huge-h...</td>\n",
       "      <td>960</td>\n",
       "      <td>5</td>\n",
       "      <td>5</td>\n",
       "      <td>HUGE HOUSE CLOSE DAVIS PORTER</td>\n",
       "      <td>Huge House Close to Davis and Porter</td>\n",
       "      <td>1</td>\n",
       "      <td>163</td>\n",
       "      <td>2018-05-01</td>\n",
       "      <td>2018-05-02</td>\n",
       "      <td>...</td>\n",
       "      <td>2018-05-02 05:09:25 UTC</td>\n",
       "      <td>960 5 Huge House Close to Davis and Porter -71...</td>\n",
       "      <td>LOCmapc_152044</td>\n",
       "      <td>NaN</td>\n",
       "      <td>NaN</td>\n",
       "      <td>NaN</td>\n",
       "      <td>NaN</td>\n",
       "      <td>0</td>\n",
       "      <td>0</td>\n",
       "      <td>0</td>\n",
       "    </tr>\n",
       "    <tr>\n",
       "      <th>272338</th>\n",
       "      <td>https://boston.craigslist.org/gbs/nfb/d/huge-h...</td>\n",
       "      <td>970</td>\n",
       "      <td>5</td>\n",
       "      <td>5</td>\n",
       "      <td>HUGE HOUSE CLOSE DAVIS PORTER</td>\n",
       "      <td>Huge House Close to Davis and Porter</td>\n",
       "      <td>1</td>\n",
       "      <td>171</td>\n",
       "      <td>2018-05-25</td>\n",
       "      <td>2018-05-30</td>\n",
       "      <td>...</td>\n",
       "      <td>2018-05-30 07:18:36 UTC</td>\n",
       "      <td>970 5 Huge House Close to Davis and Porter -71...</td>\n",
       "      <td>LOCmapc_152044</td>\n",
       "      <td>NaN</td>\n",
       "      <td>NaN</td>\n",
       "      <td>NaN</td>\n",
       "      <td>NaN</td>\n",
       "      <td>0</td>\n",
       "      <td>0</td>\n",
       "      <td>0</td>\n",
       "    </tr>\n",
       "    <tr>\n",
       "      <th>272383</th>\n",
       "      <td>https://boston.craigslist.org/gbs/nfb/d/huge-h...</td>\n",
       "      <td>990</td>\n",
       "      <td>5</td>\n",
       "      <td>5</td>\n",
       "      <td>HUGE HOUSE CLOSE DAVIS PORTER</td>\n",
       "      <td>Huge House Close to Davis and Porter</td>\n",
       "      <td>1</td>\n",
       "      <td>175</td>\n",
       "      <td>2018-06-12</td>\n",
       "      <td>2018-06-13</td>\n",
       "      <td>...</td>\n",
       "      <td>2018-06-13 04:55:54 UTC</td>\n",
       "      <td>990 5 Huge House Close to Davis and Porter -71...</td>\n",
       "      <td>LOCmapc_152044</td>\n",
       "      <td>NaN</td>\n",
       "      <td>NaN</td>\n",
       "      <td>NaN</td>\n",
       "      <td>NaN</td>\n",
       "      <td>0</td>\n",
       "      <td>0</td>\n",
       "      <td>0</td>\n",
       "    </tr>\n",
       "    <tr>\n",
       "      <th>496026</th>\n",
       "      <td>https://boston.craigslist.org/gbs/nfb/d/huge-h...</td>\n",
       "      <td>945</td>\n",
       "      <td>5</td>\n",
       "      <td>5</td>\n",
       "      <td>HUGE HOUSE CLOSE DAVIS PORTER</td>\n",
       "      <td>Huge House Close to Davis and Porter</td>\n",
       "      <td>1</td>\n",
       "      <td>221</td>\n",
       "      <td>2018-11-14</td>\n",
       "      <td>2018-11-14</td>\n",
       "      <td>...</td>\n",
       "      <td>2018-11-14 06:06:50 UTC</td>\n",
       "      <td>945 5 Huge House Close to Davis and Porter -71...</td>\n",
       "      <td>LOCmapc_152044</td>\n",
       "      <td>NaN</td>\n",
       "      <td>NaN</td>\n",
       "      <td>NaN</td>\n",
       "      <td>NaN</td>\n",
       "      <td>0</td>\n",
       "      <td>0</td>\n",
       "      <td>0</td>\n",
       "    </tr>\n",
       "  </tbody>\n",
       "</table>\n",
       "<p>5 rows × 77 columns</p>\n",
       "</div>"
      ],
      "text/plain": [
       "                                                       id  ask  bedrooms  \\\n",
       "271872  https://boston.craigslist.org/gbs/nfb/d/huge-h...  905         5   \n",
       "272071  https://boston.craigslist.org/gbs/nfb/d/huge-h...  960         5   \n",
       "272338  https://boston.craigslist.org/gbs/nfb/d/huge-h...  970         5   \n",
       "272383  https://boston.craigslist.org/gbs/nfb/d/huge-h...  990         5   \n",
       "496026  https://boston.craigslist.org/gbs/nfb/d/huge-h...  945         5   \n",
       "\n",
       "        numRooms                            title  \\\n",
       "271872         5   HUGE HOUSE CLOSE DAVIS PORTER    \n",
       "272071         5   HUGE HOUSE CLOSE DAVIS PORTER    \n",
       "272338         5   HUGE HOUSE CLOSE DAVIS PORTER    \n",
       "272383         5   HUGE HOUSE CLOSE DAVIS PORTER    \n",
       "496026         5   HUGE HOUSE CLOSE DAVIS PORTER    \n",
       "\n",
       "                              original_title  source_id  survey_id  \\\n",
       "271872  Huge House Close to Davis and Porter          1        151   \n",
       "272071  Huge House Close to Davis and Porter          1        163   \n",
       "272338  Huge House Close to Davis and Porter          1        171   \n",
       "272383  Huge House Close to Davis and Porter          1        175   \n",
       "496026  Huge House Close to Davis and Porter          1        221   \n",
       "\n",
       "         post_date created_date     ...                    updated_at  \\\n",
       "271872  2018-04-02   2018-04-04     ...       2018-04-04 07:20:55 UTC   \n",
       "272071  2018-05-01   2018-05-02     ...       2018-05-02 05:09:25 UTC   \n",
       "272338  2018-05-25   2018-05-30     ...       2018-05-30 07:18:36 UTC   \n",
       "272383  2018-06-12   2018-06-13     ...       2018-06-13 04:55:54 UTC   \n",
       "496026  2018-11-14   2018-11-14     ...       2018-11-14 06:06:50 UTC   \n",
       "\n",
       "                                                 uniqueid       parloc_id  \\\n",
       "271872  905 5 Huge House Close to Davis and Porter -71...  LOCmapc_152044   \n",
       "272071  960 5 Huge House Close to Davis and Porter -71...  LOCmapc_152044   \n",
       "272338  970 5 Huge House Close to Davis and Porter -71...  LOCmapc_152044   \n",
       "272383  990 5 Huge House Close to Davis and Porter -71...  LOCmapc_152044   \n",
       "496026  945 5 Huge House Close to Davis and Porter -71...  LOCmapc_152044   \n",
       "\n",
       "        pid_long_15 pid_long_16  luc_adj_1  luc_adj_2 yr_built  camb_yr_built  \\\n",
       "271872          NaN         NaN        NaN        NaN        0              0   \n",
       "272071          NaN         NaN        NaN        NaN        0              0   \n",
       "272338          NaN         NaN        NaN        NaN        0              0   \n",
       "272383          NaN         NaN        NaN        NaN        0              0   \n",
       "496026          NaN         NaN        NaN        NaN        0              0   \n",
       "\n",
       "       bos_yr_built  \n",
       "271872            0  \n",
       "272071            0  \n",
       "272338            0  \n",
       "272383            0  \n",
       "496026            0  \n",
       "\n",
       "[5 rows x 77 columns]"
      ]
     },
     "execution_count": 20,
     "metadata": {},
     "output_type": "execute_result"
    }
   ],
   "source": [
    "full[full['title'].str.match(' HUGE HOUSE CLOSE DAVIS PORTER ')]\n"
   ]
  },
  {
   "cell_type": "code",
   "execution_count": null,
   "metadata": {},
   "outputs": [],
   "source": []
  }
 ],
 "metadata": {
  "kernelspec": {
   "display_name": "Python 3",
   "language": "python",
   "name": "python3"
  },
  "language_info": {
   "codemirror_mode": {
    "name": "ipython",
    "version": 3
   },
   "file_extension": ".py",
   "mimetype": "text/x-python",
   "name": "python",
   "nbconvert_exporter": "python",
   "pygments_lexer": "ipython3",
   "version": "3.7.5"
  }
 },
 "nbformat": 4,
 "nbformat_minor": 2
}
